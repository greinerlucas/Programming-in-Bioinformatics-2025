{
 "cells": [
  {
   "cell_type": "markdown",
   "metadata": {},
   "source": [
    "# Differential gene expression analysis\n",
    "\n",
    "Exercise for analysing gene expression changes between conditions.\n",
    "\n",
    "* **Contact:** mate.balajti@unibas.ch"
   ]
  },
  {
   "cell_type": "markdown",
   "metadata": {},
   "source": [
    "#### Differential gene expression analysis\n",
    "\n",
    "One of the most common experiment types making use of RNA-Seq is a differential\n",
    "gene expression analysis where gene expression levels across different\n",
    "conditions (e.g., healthy vs disease) or compared to each other. This type of\n",
    "experiment is often the basis for discovering genes that are relevant to a\n",
    "given physiological or disease process. Following this relatively open-ended\n",
    "discovery phase of a study, a list of genes with a strikingly different\n",
    "expression pattern is often the basis for further, more detailed mechanistic\n",
    "studies.\n",
    "\n",
    "Required files:\n",
    "\n",
    "* Control mate 1: `control.mate_1.fq.gz` (from Exercise 2)\n",
    "* Control mate 2: `control.mate_2.fq.gz` (from Exercise 2)\n",
    "* Treated mate 1: `treated.mate_1.fq.gz`\n",
    "* Treated mate 2: `treated.mate_2.fq.gz`\n",
    "\n",
    "Procedure:\n",
    "\n",
    "* Create a table of counts for each gene (rows) and sample (columns)\n",
    "* Analyze gene expression across different conditions based on such a count\n",
    "  table"
   ]
  },
  {
   "cell_type": "markdown",
   "metadata": {},
   "source": [
    "#### Exercise 3.1: Align the treatment reads to the reference genome (2 points)\n",
    "\n",
    "Align the treated sample’s paired-end FASTQ files to the reference genome with `STAR` (similarly to Exercise 2) to produce a sorted, indexed `BAM` suitable for counting. \n",
    "\n",
    "Required files:\n",
    "\n",
    "* Genome index (same one used for control in Exercise 2, created from `Mus_musculus.GRCm38.dna_rm.chr19.fa.gz`)\n",
    "* Annotation GTF (same one used for control in Exercise 2, `Mus_musculus.GRCm38.88.chr19.gtf.gz`)\n",
    "* Treated reads: `treated.mate_1.fq.gz`, `treated.mate_2.fq.gz`\n",
    "\n",
    "Run `STAR` on the treated read pair using the same parameters and genome index you used for control.\n",
    "\n",
    "> When using STAR, ensure `--outSAMtype BAM SortedByCoordinate` to get sorted BAM files as output; otherwise sort after alignment (using `samtools`)"
   ]
  },
  {
   "cell_type": "code",
   "execution_count": null,
   "metadata": {},
   "outputs": [],
   "source": [
    "# Start the docker container\n",
    "\n",
    "# CMD: uses ^ for line continuation\n",
    "docker run -it --rm ^\n",
    "  -v \"C:\\Users\\lucas\\Desktop\\School\\Universität Basel\\3. Semester - HS 2025\\Programming in Bioinformatics 2025:/data\" ^\n",
    "  mgibio/star:latest ^\n",
    "  bash\n",
    "\n",
    "# my star version is: \n",
    "REPOSITORY               TAG              IMAGE ID       CREATED       SIZE\n",
    "biocontainers/samtools   v1.9-4-deb_cv1   da61624fda23   5 years ago   985MB\n",
    "mgibio/star              latest           e7d63332622d   6 years ago   1.19GB\n",
    "\n",
    "# actually do everything from wsl\n",
    "installed STAR 2.7.11b to Ubuntu\n",
    "\n",
    "# Command\n",
    "\n",
    "STAR \\\n",
    "  --runThreadN 4 \\\n",
    "  --genomeDir \"/mnt/c/Users/lucas/Desktop/School/Universität Basel/3. Semester - HS 2025/Programming in Bioinformatics 2025/Exercise 2/MyIndex\" \\\n",
    "  --readFilesIn \"/mnt/c/Users/lucas/Desktop/School/Universität Basel/3. Semester - HS 2025/Programming in Bioinformatics 2025/Exercise 3/PI1_R1_t_chr19.fq\" \"/mnt/c/Users/lucas/Desktop/School/Universität Basel/3. Semester - HS 2025/Programming in Bioinformatics 2025/Exercise 3/PI1_R2_t_chr19.fq\" \\\n",
    "  --sjdbGTFfile \"/mnt/c/Users/lucas/Desktop/School/Universität Basel/3. Semester - HS 2025/Programming in Bioinformatics 2025/Exercise 2/Mus_musculus.GRCm38.88.chr19.gtf/Mus_musculus.GRCm38.88_chr19.gtf\" \\\n",
    "  --outFileNamePrefix \"/mnt/c/Users/lucas/Desktop/School/Universität Basel/3. Semester - HS 2025/Programming in Bioinformatics 2025/Exercise 3/Output treated/\" \\\n",
    "  --outSAMtype BAM SortedByCoordinate\n",
    "\n",
    "# need 2.7.4a\n",
    "    Switch between versions: \n",
    "\n",
    "    Keep 2.7.11b in /usr/local/bin/STAR\n",
    "\n",
    "    Keep 2.7.4a in ~/bin/star/STAR (or any folder)\n",
    "\n",
    "    Call explicitly if needed:\n",
    "\n",
    "    # Use 2.7.11b\n",
    "    /usr/local/bin/STAR --version\n",
    "\n",
    "    # Use 2.7.4a\n",
    "    ~/bin/star/STAR --version\n",
    "\n",
    "# Brruuuhhh now i need 2.7.0 digggaaa\n",
    "\n",
    "    ~/bin/star/STAR-2.7.0d --version\n",
    "\n",
    "\n",
    "# Statistics\n",
    "\n",
    "local machine\n",
    "\n",
    "Oct 05 11:33:55 ..... started STAR run\n",
    "Oct 05 11:33:56 ..... loading genome\n",
    "Oct 05 11:34:28 ..... processing annotations GTF\n",
    "Oct 05 11:34:32 ..... inserting junctions into the genome indices\n",
    "Oct 05 11:34:38 ..... started mapping\n",
    "Oct 05 11:37:41 ..... finished mapping\n",
    "Oct 05 11:37:43 ..... started sorting BAM\n",
    "Oct 05 11:37:53 ..... finished successfully\n",
    "\n",
    "\n"
   ]
  },
  {
   "cell_type": "code",
   "execution_count": null,
   "metadata": {},
   "outputs": [],
   "source": [
    "# 06.10 MB\n",
    "# Good (2/2) "
   ]
  },
  {
   "cell_type": "markdown",
   "metadata": {},
   "source": [
    "#### Exercise 3.2: Generate gene-level counts (3 points)\n",
    "\n",
    "Summarize aligned reads to gene counts for control and treated using the GTF annotation. \n",
    "Choose a counting tool: **featureCounts** (recommended) or HTSeq-count.\n",
    "\n",
    "featureCounts is part of the [subread](https://subread.sourceforge.net/) package (available through [bioconda](https://anaconda.org/bioconda/subread)). \n",
    "Follow [featureCounts\\' manual](https://subread.sourceforge.net/SubreadUsersGuide.pdf#section.6.2) to summarize the aligned reads from the `BAM` files into a gene × sample count table (rows = genes, columns = control, treated).\n",
    "\n",
    "Input files:\n",
    "* Output from Exercise 2 and 3.1: `control.sorted.bam`, `treated.sorted.bam`\n",
    "* Annotation GTF: `Mus_musculus.GRCm38.88.chr19.gtf.gz`\n",
    "\n",
    "\n",
    "> Ensure both BAMs are coordinate-sorted and indexed before counting.\n",
    "\n",
    "> Note that we're dealing with paired-end reads, therefore you have to count _fragments_ instead of reads (`-p` and `--countReadPairs` params are required)."
   ]
  },
  {
   "cell_type": "code",
   "execution_count": null,
   "metadata": {},
   "outputs": [],
   "source": [
    "### Copy your command here\n",
    "\n",
    "featureCounts \\\n",
    "  -p \\\n",
    "  -T 4 \\\n",
    "  -a \"/mnt/c/Users/lucas/Desktop/School/Universität Basel/3. Semester - HS 2025/Programming in Bioinformatics 2025/Exercise 2/Mus_musculus.GRCm38.88.chr19.gtf/Mus_musculus.GRCm38.88_chr19.gtf\" \\\n",
    "  -o gene_counts_Ex_3.2.txt \\\n",
    "  \"/mnt/c/Users/lucas/Desktop/School/Universität Basel/3. Semester - HS 2025/Programming in Bioinformatics 2025/Exercise 2/output/BAM/Aligned.sorted.bam\" \\\n",
    "  \"/mnt/c/Users/lucas/Desktop/School/Universität Basel/3. Semester - HS 2025/Programming in Bioinformatics 2025/Exercise 3/Output treated/Aligned.sortedByCoord.out.bam\"\n",
    "\n",
    "\n",
    "# Explanation\n",
    "-p          like mentioned for counting fragments intead of reads\n",
    "-T 4        4 threads\n",
    "-a          GTF File\n",
    "-o          output\n",
    "controlBAM\n",
    "treatedBAM\n",
    "\n",
    "WLS Paths: \n",
    "\"/mnt/c/Users...\"\n",
    "\n",
    "GTF\n",
    "\"C:\\Users\\lucas\\Desktop\\School\\Universität Basel\\3. Semester - HS 2025\\Programming in Bioinformatics 2025\\Exercise 2\\Mus_musculus.GRCm38.88.chr19.gtf\\Mus_musculus.GRCm38.88_chr19.gtf\"\n",
    "\"/mnt/c/Users/lucas/Desktop/School/Universität Basel/3. Semester - HS 2025/Programming in Bioinformatics 2025/Exercise 2/Mus_musculus.GRCm38.88.chr19.gtf/Mus_musculus.GRCm38.88_chr19.gtf\"\n",
    "\n",
    "sorted\n",
    "\"/mnt/c/Users/lucas/Desktop/School/Universität Basel/3. Semester - HS 2025/Programming in Bioinformatics 2025/Exercise 2/output/BAM/Aligned.sorted.bam\"\n",
    "\n",
    "treated\n",
    "\"/mnt/c/Users/lucas/Desktop/School/Universität Basel/3. Semester - HS 2025/Programming in Bioinformatics 2025/Exercise 3/Output treated/Aligned.sortedByCoord.out.bam\"\n",
    "\n",
    "move output to folder\n",
    "mv gene_counts_Ex_3.2.txt \"/mnt/c/Users/lucas/Desktop/School/Universität Basel/3. Semester - HS 2025/Programming in Bioinformatics 2025/Exercise 3/Output 3.2\"\n",
    "mv gene_counts_Ex_3.2.txt.summary \"/mnt/c/Users/lucas/Desktop/School/Universität Basel/3. Semester - HS 2025/Programming in Bioinformatics 2025/Exercise 3/Output 3.2\"\n",
    "\n"
   ]
  },
  {
   "cell_type": "code",
   "execution_count": null,
   "metadata": {},
   "outputs": [],
   "source": [
    "# 06.10 MB\n",
    "# Correct (3/3)"
   ]
  },
  {
   "cell_type": "markdown",
   "metadata": {},
   "source": [
    "#### Exercise 3.3: DESeq2 size-factor normalization (3 points)\n",
    "\n",
    "Because we only have __1 control__ and __1 treated__ sample, we cannot estimate biological variance across replicates and therefore cannot perform reliable hypothesis testing. To keep the exercise scientifically grounded yet minimal, we will:\n",
    "\n",
    "1. Implement DESeq2’s size-factor normalization\n",
    "    - Compute the geometric mean per gene across samples (only genes with all non-zero counts)\n",
    "    - For each sample, compute gene-wise ratios count / geometric mean\n",
    "    - The size factor is the median of these ratios; divide raw counts by the size factor to obtain normalized counts\n",
    "\n",
    "2. Rank genes by log2FC (and optionally by absolute log2FC)\n",
    "\n",
    "3. Visualize the results\n",
    "    - MA plot of (mean normalized count) vs (log2FC) for an effect-size view.\n",
    "\n",
    "In a real analysis with adequate replication, these steps would be followed by __dispersion estimation__, __NB-GLM fitting__ under an appropriate design (accounting for covariates), __Wald/LRT__ testing with FDR control, and __LFC shrinkage__, plus thorough QC (PCA, dispersion plots, Cook’s/outlier checks). If you're interested, you can read more about DESeq2 [here](https://bioconductor.org/packages/devel/bioc/vignettes/DESeq2/inst/doc/DESeq2.html).\n",
    "\n"
   ]
  },
  {
   "cell_type": "code",
   "execution_count": 4,
   "metadata": {},
   "outputs": [
    {
     "name": "stdout",
     "output_type": "stream",
     "text": [
      "                    control  treated\n",
      "Geneid                              \n",
      "ENSMUSG00000100969        0        0\n",
      "ENSMUSG00000093983        0        0\n",
      "ENSMUSG00000024831      491      423\n",
      "ENSMUSG00000024829      812      714\n",
      "ENSMUSG00000099261        0        0\n"
     ]
    }
   ],
   "source": [
    "import pandas as pd\n",
    "\n",
    "# Read in your featureCounts output file into a pandas df\n",
    "FEATURECOUNTS_TSV = \"C:/Users/lucas/Desktop/School/Universität Basel/3. Semester - HS 2025/Programming in Bioinformatics 2025/Exercise 3/Output 3.2/gene_counts_Ex_3.2.txt\"  # path to your featureCounts output\n",
    "\n",
    "fc = pd.read_csv(FEATURECOUNTS_TSV, sep=\"\\t\", comment=\"#\").set_index(\"Geneid\")\n",
    "\n",
    "\n",
    "# Identify sample columns (featureCounts puts them at the end and they often end with .bam)\n",
    "# Create the df \"counts_df\" with the sample columns and \"Geneid\" as the index\n",
    "# You can change the name of the headers as well\n",
    "counts_df = fc.iloc[:, -2:]\n",
    "counts_df.columns = ['control', 'treated']\n",
    "\n",
    "\n",
    "\n",
    "print(counts_df.head())"
   ]
  },
  {
   "cell_type": "markdown",
   "metadata": {},
   "source": [
    "Implement the function `deseq_size_factors()` that takes one argument, a dataframe with two numerical columns (the counts from the samples) and returns a `pd.Series` of DESeq median-of-ratios size factors (indexed by the column names): compute per-gene geometric means, compute per-sample ratios `count/gm`, take the median ratio per sample as its size factor, and return the Series named `size_factor`.\n",
    "\n",
    "> **Note:**\n",
    ">\n",
    "> If either samples have 0 count for a gene, the GM will be 0. Therefore, either filter out such genes, or when computing the median, ignore `NaN`'s (look it up in `numpy` how it's done)."
   ]
  },
  {
   "cell_type": "code",
   "execution_count": 7,
   "metadata": {},
   "outputs": [
    {
     "data": {
      "text/plain": [
       "control    1.096106\n",
       "treated    0.912321\n",
       "dtype: float64"
      ]
     },
     "execution_count": 7,
     "metadata": {},
     "output_type": "execute_result"
    }
   ],
   "source": [
    "import numpy as np\n",
    "import pandas as pd\n",
    "\n",
    "def deseq_size_factors(counts_df: pd.DataFrame) -> pd.Series:\n",
    "    \"\"\"\n",
    "    DESeq median-of-ratios normalization:\n",
    "      1) geometric mean (gm) per gene across samples\n",
    "      2) for each sample, compute gene-wise ratios count / gm\n",
    "      3) size factor = median of ratios over genes with gm > 0\n",
    "    \"\"\"\n",
    "\n",
    "\n",
    "    counts_df_filtered = counts_df[(counts_df > 0).all(axis=1)] # filter out nan\n",
    "  \n",
    "  \n",
    "    geo_means = np.exp(np.log(counts_df_filtered).mean(axis=1))\n",
    "  \n",
    "    ratios = counts_df_filtered.divide(geo_means, axis=0)\n",
    "  \n",
    "    size_factors = ratios.median(axis=0)\n",
    "      \n",
    "    return size_factors\n",
    "\n",
    "\n",
    "\n",
    "\n",
    "\n",
    "size_factors = deseq_size_factors(counts_df)\n",
    "size_factors\n"
   ]
  },
  {
   "cell_type": "markdown",
   "metadata": {},
   "source": [
    "Then, divide the counts by the computed size factors to get the normalized counts."
   ]
  },
  {
   "cell_type": "code",
   "execution_count": 8,
   "metadata": {},
   "outputs": [
    {
     "name": "stdout",
     "output_type": "stream",
     "text": [
      "                       control     treated\n",
      "Geneid                                    \n",
      "ENSMUSG00000100969    0.000000    0.000000\n",
      "ENSMUSG00000093983    0.000000    0.000000\n",
      "ENSMUSG00000024831  447.949289  463.652761\n",
      "ENSMUSG00000024829  740.804119  782.619554\n",
      "ENSMUSG00000099261    0.000000    0.000000\n"
     ]
    }
   ],
   "source": [
    "normalized_df = counts_df.divide(size_factors, axis=1)\n",
    "print(normalized_df.head())"
   ]
  },
  {
   "cell_type": "code",
   "execution_count": null,
   "metadata": {},
   "outputs": [],
   "source": [
    "# 06.10 MB\n",
    "# Great work! (3/3)"
   ]
  },
  {
   "cell_type": "markdown",
   "metadata": {},
   "source": [
    "#### Exercise 3.4: Calculate fold change and explore (1 point)\n",
    "\n",
    "Calculate the log2 fold change between the treated sample and the control sample from your normalized data. "
   ]
  },
  {
   "cell_type": "code",
   "execution_count": null,
   "metadata": {},
   "outputs": [],
   "source": [
    "# Write your code here\n",
    "\n",
    "log_2fc = np.log2((normalized_df['treated'] + 1) / (normalized_df['control'] + 1)) # +1 to avoid div by 0\n",
    "normalized_df['log_2fc'] = log_2fc\n",
    "\n"
   ]
  },
  {
   "cell_type": "markdown",
   "metadata": {},
   "source": [
    "Which genes are up- and downregulated when the sample undergoes treatment? Write the 3 genes with the highest `log2FC` and 3 genes with the lowest `log2FC`. Look up the gene names that belong to these 6 Gene ID's. What are their functions?\n",
    "\n",
    "> **Hint:** \n",
    ">\n",
    "> You could make use of the [Ensembl](https://www.ensembl.org/index.html) or [NCBI](https://www.ncbi.nlm.nih.gov/) databases. "
   ]
  },
  {
   "cell_type": "code",
   "execution_count": 12,
   "metadata": {},
   "outputs": [
    {
     "name": "stdout",
     "output_type": "stream",
     "text": [
      "Top 3 Upregulated Genes:\n",
      "                      control      treated   log_2fc\n",
      "Geneid                                              \n",
      "ENSMUSG00000024669  14.597125  2291.957265  7.199785\n",
      "ENSMUSG00000067577   0.000000   127.148275  7.001670\n",
      "ENSMUSG00000045903   0.000000    25.210434  4.712069\n",
      "\n",
      "Top 3 Downregulated Genes:\n",
      "                      control   treated   log_2fc\n",
      "Geneid                                           \n",
      "ENSMUSG00000025083   9.123203  0.000000 -3.339594\n",
      "ENSMUSG00000050195  10.035524  0.000000 -3.464083\n",
      "ENSMUSG00000025082  47.440658  2.192212 -3.923590\n"
     ]
    }
   ],
   "source": [
    "# Write your answers here\n",
    "\n",
    "# sort\n",
    "normalized_df_sorted = normalized_df.sort_values(by='log_2fc', ascending=False)\n",
    "\n",
    "\n",
    "print(\"Top 3 Upregulated Genes:\")\n",
    "print(normalized_df_sorted.head(3))\n",
    "\n",
    "print(\"\\nTop 3 Downregulated Genes:\")\n",
    "print(normalized_df_sorted.tail(3))\n",
    "\n"
   ]
  },
  {
   "cell_type": "markdown",
   "metadata": {},
   "source": [
    "I used ChatGPT to do the reasearch of what the gene functions are. \n",
    "\n",
    "Prompt: \n",
    "Explain what is sigificant about these 6 genes.\n",
    "Geneid \n",
    "ENSMUSG00000024669 \n",
    "ENSMUSG00000067577 \n",
    "ENSMUSG00000045903 \n",
    "ENSMUSG00000025083 \n",
    "ENSMUSG00000050195 \n",
    "ENSMUSG00000025082\n",
    "\n",
    "Answer: \n",
    "\n",
    "Here’s a summary of the six mouse genes you provided, detailing their functions and significance:\n",
    "\n",
    "1. ENSMUSG00000024669 – Npas4 (Neuronal PAS domain protein 4)\n",
    "\n",
    "Function: A transcription factor activated by neuronal activity. It regulates genes involved in synaptic plasticity and memory formation.\n",
    "\n",
    "Significance: Plays a crucial role in the brain's response to stimuli, influencing learning and memory processes.\n",
    "\n",
    "2. ENSMUSG00000067577 – Xkr4 (X-linked Kx blood group related 4)\n",
    "\n",
    "Function: Involved in the regulation of red blood cell membrane stability.\n",
    "\n",
    "Significance: Mutations can affect red blood cell morphology and contribute to blood-related disorders.\n",
    "\n",
    "3. ENSMUSG00000045903 – Npas4 (Neuronal PAS domain protein 4)\n",
    "\n",
    "Function: Similar to ENSMUSG00000024669, it acts as a transcription factor in neurons, influencing gene expression related to synaptic function.\n",
    "\n",
    "Significance: Essential for neuronal adaptation and plasticity, impacting learning and memory.\n",
    "\n",
    "4. ENSMUSG00000025083 – Fasn (Fatty acid synthase)\n",
    "\n",
    "Function: Catalyzes the synthesis of fatty acids, essential for lipid metabolism.\n",
    "\n",
    "Significance: Overexpression is linked to various cancers and metabolic disorders.\n",
    "\n",
    "5. ENSMUSG00000050195 – Il4 (Interleukin 4)\n",
    "\n",
    "Function: A cytokine that plays a pivotal role in the immune system, particularly in the differentiation of T-helper cells.\n",
    "\n",
    "Significance: Crucial for immune responses and has implications in allergic reactions and asthma.\n",
    "\n",
    "6. ENSMUSG00000025082 – Xkr4 (X-linked Kx blood group related 4)\n",
    "\n",
    "Function: Similar to ENSMUSG00000067577, involved in red blood cell membrane integrity.\n",
    "\n",
    "Significance: Mutations can lead to hematological conditions affecting red blood cell function."
   ]
  },
  {
   "cell_type": "code",
   "execution_count": null,
   "metadata": {},
   "outputs": [],
   "source": [
    "# 06.10 MB\n",
    "# Well done (1/1)"
   ]
  },
  {
   "cell_type": "markdown",
   "metadata": {},
   "source": [
    "#### Exercise 3.5: Visualize results (1 point)\n",
    "\n",
    "Use the `matplotlib` or [`seaborn`](https://seaborn.pydata.org/) Python package to create an MA-plot showing your results. The plot shows the average expression on the x-axis and the log2FC on the y. It should look something like this:\n",
    "\n",
    "![MA-plot](ma_plot.png)"
   ]
  },
  {
   "cell_type": "code",
   "execution_count": 15,
   "metadata": {},
   "outputs": [
    {
     "data": {
      "image/png": "[encoded data removed]",
      "text/plain": [
       "<Figure size 1000x600 with 1 Axes>"
      ]
     },
     "metadata": {},
     "output_type": "display_data"
    }
   ],
   "source": [
    "# Write your code here\n",
    "import matplotlib.pyplot as plt\n",
    "import seaborn as sns\n",
    "\n",
    "normalized_df['A_mean_log_2'] = np.log2(normalized_df[['control', 'treated']].mean(axis=1) + 1)\n",
    "\n",
    "plt.style.use('seaborn-v0_8-whitegrid')\n",
    "plt.figure(figsize=(10, 6))\n",
    "\n",
    "sns.scatterplot(\n",
    "    data=normalized_df,\n",
    "    x='A_mean_log_2',\n",
    "    y='log_2fc',\n",
    "    alpha=0.5,\n",
    "    s=20,\n",
    "    color='blue'\n",
    ")\n",
    "\n",
    "plt.axhline(0, color='red', linestyle='--')\n",
    "\n",
    "plt.xlabel(\"A (Average Log2 Normalized Expression)\")\n",
    "plt.ylabel(\"M (Log2 Fold Change)\")\n",
    "plt.title(\"MA-Plot: Treated vs. Control\")\n",
    "plt.grid(True)\n",
    "\n",
    "plt.show()\n"
   ]
  },
  {
   "cell_type": "code",
   "execution_count": null,
   "metadata": {},
   "outputs": [],
   "source": [
    "# 06.10 MB\n",
    "# Very nice! (1/1)"
   ]
  }
 ],
 "metadata": {
  "kernelspec": {
   "display_name": "Python 3",
   "language": "python",
   "name": "python3"
  },
  "language_info": {
   "codemirror_mode": {
    "name": "ipython",
    "version": 3
   },
   "file_extension": ".py",
   "mimetype": "text/x-python",
   "name": "python",
   "nbconvert_exporter": "python",
   "pygments_lexer": "ipython3",
   "version": "3.12.6"
  }
 },
 "nbformat": 4,
 "nbformat_minor": 2
}
