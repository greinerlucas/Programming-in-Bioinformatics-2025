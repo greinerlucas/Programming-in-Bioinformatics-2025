{
 "cells": [
  {
   "cell_type": "markdown",
   "metadata": {},
   "source": [
    "# Aligning reads & processing SAM files\n",
    "\n",
    "Exercise for creating and processing short read alignments.\n",
    "\n",
    "* **Contact:** mate.balajti@unibas.ch"
   ]
  },
  {
   "cell_type": "markdown",
   "metadata": {},
   "source": [
    "### General\n",
    "\n",
    "Be sure to nicely format your answer.\n",
    "Indicate your name in the file name!\n",
    "_Ex2_solutions_Name_LastName.py_ would be a good approach to this.\n",
    "Document, report and detail your work, make sure we can follow and execute it."
   ]
  },
  {
   "cell_type": "markdown",
   "metadata": {},
   "source": [
    "## Prerequisites\n",
    "\n",
    "### Operating system\n",
    "\n",
    "For solving these exercises, you need to work in Bash on a Unix-type terminal,\n",
    "so if you are behind either a Linux distribution, a Mac or a BSD system etc.,\n",
    "you ​ should ​ be good to go. If instead you only have access to a Windows 10/11\n",
    "computer, you should be able to make use of the support the system offers for\n",
    "Linux/Ubuntu through their cooperation with Canonical. \n",
    "\n",
    "If you have experience with Docker, one other possible option is to\n",
    "use a Docker image that contains all required software. For example, starting\n",
    "from a Linux image (e.g., latest Ubuntu), which provides Linux/GNU/Bash out of\n",
    "the box, you could install STAR and/or any other required Linux software by\n",
    "writing an appropriate Dockerfile and then building that image. You can also\n",
    "search online for available images that already contain these tools (e.g.,\n",
    "[this](https://hub.docker.com/r/mgibio/star​) looks like one you\n",
    "could use for running STAR; see below). If you decide to go this route, be\n",
    "aware that Docker on Windows still runs in a VM and support is not always\n",
    "stable.\n",
    "\n",
    "> **Note:** If you are planning to do more bioinformatics work in the future,\n",
    "> it is definitely a good idea to have a stable Linux system at hand at all\n",
    "> times. In this case, you might want to consider installing a Linux\n",
    "> distribution side-by-side with your Windows OS (search for “Linux Windows\n",
    "> dual boot” or similar)."
   ]
  },
  {
   "cell_type": "markdown",
   "metadata": {},
   "source": [
    "### Software\n",
    "\n",
    "In the last exercise, you were asked to write a simple, naive short read\n",
    "aligner from scratch. While this is a good exercise, it is not suitable for\n",
    "actual analysis, because your code won’t be optimized to handle the amounts of\n",
    "data that next-generation sequencing typically yields. Since the dawn of\n",
    "high-throughput sequencing techniques in the mid 2000’s, a lot of effort has\n",
    "been put into designing and implementing very efficient methods at mapping\n",
    "short reads to reference sequences. For this exercise, we will use a popular\n",
    "option called [STAR](https://github.com/alexdobin/STAR). Among many other\n",
    "features, STAR supports spliced alignments and optionally accepts gene\n",
    "annotations in GTF format next to a genome reference to increase the fidelity\n",
    "of mapping reads that cover splice junctions (if not provided, STAR, by\n",
    "default, will try to infer splice junctions from the genome reference and the\n",
    "reads). Please either install STAR (and any other third-party software you\n",
    "need) via the [Conda](https://docs.conda.io/en/latest/miniconda.html) package\n",
    "manager _OR_ use Docker containers as suggested above."
   ]
  },
  {
   "cell_type": "markdown",
   "metadata": {},
   "source": [
    "### Installation for Windows\n",
    "\n",
    "_STAR_ is only available as Docker image on Windows.\n",
    "Here we assume Docker is not yet installed and Windows 10 or 11 is used.\n",
    "Coarse installation steps:\n",
    "* Install WSL2 (Windows subsystem for Linux) backend\n",
    "  https://learn.microsoft.com/en-us/windows/wsl/install\n",
    "* Install Docker https://docs.docker.com/desktop/install/windows-install/\n",
    "* Ensure the installation was successful by following the _Quick Start Guide_.\n",
    "* Get the STAR docker image by executing the following command in\n",
    "a PowerShell or Windows Command Prompt window (in Linux it is called a terminal window).\n",
    "  ```bash\n",
    "  docker pull mgibio/star\n",
    "  ```\n",
    "\n",
    "> Note: please refer to the most up-to-date documentation\n",
    "> by checking the online instructions!"
   ]
  },
  {
   "cell_type": "markdown",
   "metadata": {},
   "source": [
    "### Run a Docker image\n",
    "\n",
    "To have the local files visible in the container, one needs to mount the directory onto the host (in this case the STAR container). \n",
    "\n",
    "For example, to mount `C:/paths/to/test_files` (absolute path to directory `test_files`) onto `/docker_main/files` (the path and name of the directory on the Linux-based host):\n",
    "```bash\n",
    "docker run -it \\\n",
    "  --mount type=bind,source=\"C:\\paths\\to\\test_files\",target=/docker_main/files \\\n",
    "  mgibio/star:latest\n",
    "```\n",
    "\n",
    "> Note: on Linux, paths are constructed with slash \"/\", whereas on Windows with backslash \"\\\\\"!\n",
    "\n",
    "> Note: to get help about the command `docker run`,\n",
    "> try running `docker run --help`\n",
    "> or search online for the command."
   ]
  },
  {
   "cell_type": "markdown",
   "metadata": {},
   "source": [
    "#### Exercise 2.1: Create index (1 points)\n",
    "\n",
    "Follow [STAR’s manual](https://physiology.med.cornell.edu/faculty/skrabanek/lab/angsd/lecture_notes/STARmanual.pdf#page=4) to create an index of the provided genome ​`FASTA`​ file\n",
    "and ​`GTF`​ gene annotations. Note that to allow the mapping to be done on a\n",
    "laptop, only chromosome 19 and the corresponding gene annotations are provided.\n",
    "In a typical setting, indexing and mapping would be done on all chromosomes and\n",
    "an unfiltered set of annotations. Note also that files are provided in a\n",
    "compressed form (`GZIP`) for easy sharing and may need to be uncompressed\n",
    "before use (check the instructions whether passing `GZIP`ped files directly is\n",
    "accepted).\n",
    "\n",
    "Required files:\n",
    "\n",
    "* Genome:​ `Mus_musculus.GRCm38.dna_rm.chr19.fa.gz`\n",
    "* Gene annotations: `Mus_musculus.GRCm38.88.chr19.gtf.gz`\n"
   ]
  },
  {
   "cell_type": "code",
   "execution_count": null,
   "metadata": {},
   "outputs": [],
   "source": [
    "# Copy your indexing command here\n",
    "\n",
    "STAR --runThreadN 4 \\\n",
    "     --runMode genomeGenerate \\\n",
    "     --genomeDir /docker_main/files/MyIndex \\\n",
    "     --genomeFastaFiles /docker_main/files/Mus_musculus.GRCm38.dna_rm.chr19.fa/Mus_musculus.GRCm38.dna_rm.chromosome.19.fa \\\n",
    "     --sjdbGTFfile /docker_main/files/Mus_musculus.GRCm38.88.chr19.gtf/Mus_musculus.GRCm38.88_chr19.gtf \\\n",
    "     --sjdbOverhang 100\n",
    "\n",
    "\n"
   ]
  },
  {
   "cell_type": "markdown",
   "metadata": {},
   "source": [
    "#### Exercise 2.2: Align reads (1 points)\n",
    "\n",
    "Follow STAR’s manual to align reads to the reference, using the index you have\n",
    "created in exercise 2.1. Note that we are dealing here with (part of) a\n",
    "__paired-end sequencing library__, so you will need to provide both read library\n",
    "files for this step.\n",
    "\n",
    "ATTENTION: The running of the mapping may take quite some time if you're working on your local machine. (up to 10-15min)\n",
    "\n",
    "Required files:\n",
    "\n",
    "* Control mate 1: `control.mate_1.fq.gz`\n",
    "* Control mate 2: `control.mate_2.fq.gz`"
   ]
  },
  {
   "cell_type": "code",
   "execution_count": null,
   "metadata": {},
   "outputs": [],
   "source": [
    "# Copy your alignment command here\n",
    "\n",
    "STAR --runThreadN 4 \\\n",
    "     --genomeDir /docker_main/files/MyIndex \\\n",
    "     --readFilesIn \"/docker_main/files/control.mate_1.fq/control_R1.fastq\" \"/docker_main/files/control.mate_2.fq/control_R2.fq\"\n",
    "\n",
    "# --outFileNamePrefix /docker_main/files/output # vergessen\n",
    "\n"
   ]
  },
  {
   "cell_type": "markdown",
   "metadata": {},
   "source": [
    "### Part 2: Process alignments\n",
    "\n",
    "#### Exercise 2.3: Process alignments (2 points)\n",
    "\n",
    "Working with SAM/BAM files using SAMtools\n",
    "\n",
    "After STAR produces the alignments, the results are written by default in **SAM** format (Sequence Alignment/Map). SAM is a plain text file that can get very large and slow to work with. For efficient storage and processing, SAM files are usually converted into BAM format (the binary, compressed equivalent).\n",
    "\n",
    "To process BAM files further (for example, to feed them into downstream analysis tools), they also need to be sorted (by genomic coordinate) and indexed (to allow rapid retrieval of reads overlapping specific regions).\n",
    "\n",
    "This is where [SAMtools](https://www.htslib.org/) comes in. SAMtools is a widely used toolkit for manipulating SAM and BAM files.\n",
    "\n",
    "**Installing SAMtools**\n",
    "\n",
    "If you are working in a conda environment, you can install SAMtools with:\n",
    "\n",
    "```bash\n",
    "conda install -c bioconda samtools\n",
    "```\n",
    "\n",
    "Look up how to:\n",
    "1. Convert the SAM files produced by STAR into BAM format.\n",
    "2. Sort the BAM files by genomic coordinate.\n",
    "3. Index the sorted BAM files to generate `.bai` index files."
   ]
  },
  {
   "cell_type": "code",
   "execution_count": null,
   "metadata": {},
   "outputs": [],
   "source": [
    "# Copy your commands here\n",
    "\n",
    "# works: creates BAM file\n",
    "# Aligned.out.sam -> Aligned.out.bam\n",
    "docker run --rm -v \"C:\\Users\\lucas\\Desktop\\School\\Universität Basel\\3. Semester - HS 2025\\Programming in Bioinformatics 2025\\Exercise 2\\output:/data\" biocontainers/samtools:v1.9-4-deb_cv1 samtools view -Sb \"/data/Aligned.out.sam\" -o \"/data/BAM/Aligned.out.bam\"\n",
    "\n",
    "\n",
    "# sort\n",
    "docker run --rm -v \"C:\\Users\\lucas\\Desktop\\School\\Universität Basel\\3. Semester - HS 2025\\Programming in Bioinformatics 2025\\Exercise 2\\output:/data\" biocontainers/samtools:v1.9-4-deb_cv1 samtools sort \"/data/BAM/Aligned.out.bam\" -o \"/data/BAM/Aligned.sorted.bam\"\n",
    "\n",
    "# Index\n",
    "docker run --rm -v \"C:\\Users\\lucas\\Desktop\\School\\Universität Basel\\3. Semester - HS 2025\\Programming in Bioinformatics 2025\\Exercise 2\\output:/data\" biocontainers/samtools:v1.9-4-deb_cv1 samtools index \"/data//BAM/Aligned.sorted.bam\" \n",
    "\n"
   ]
  },
  {
   "cell_type": "markdown",
   "metadata": {},
   "source": [
    "#### Exercise 2.4: Count reads (2 points)\n",
    "\n",
    "Find out from the STAR output (Log.out or `SAM` files):\n",
    "\n",
    "* How many alignments were reported?\n",
    "* How many reads were uniquely mapped?  \n",
    "  **Hint:** check for the `NH` (number of hits) SAM tag\n",
    "* How many reads were mapped to multiple loci?\n",
    "* How many reads could not be mapped?\n",
    "\n",
    "Compare the sum of uniquely mapped, multi-mapped and unmapped reads to the\n",
    "total number of reads in the ​ FASTQ​ input files. Do the numbers match?\n",
    "\n",
    "> **Note:** See the [SAM​\n",
    "> specification](https://samtools.github.io/hts-specs/SAMv1.pdf) for more info\n",
    "> on SAM files."
   ]
  },
  {
   "cell_type": "code",
   "execution_count": null,
   "metadata": {},
   "outputs": [],
   "source": [
    "# Write your answers here\n",
    "\n",
    "Number of input reads |\t445798\n",
    "\n",
    "Uniquely mapped reads number |\t393775\n",
    "\n",
    "Number of reads mapped to multiple loci |\t3913\n",
    "\n",
    "% of reads unmapped: too many mismatches |\t0.00%\n"
   ]
  },
  {
   "cell_type": "markdown",
   "metadata": {},
   "source": [
    "#### Exercise 2.5: Run custom functions on STAR results (4 points)\n",
    "\n",
    "`FASTQ`​ (for reads), \n",
    "​`FASTA`​ (for reference sequences and reads if sequencing quality scores are disregarded or discarded), \n",
    "​`GTF`​/`GFF`​ (for gene annotations/features), \n",
    "`SAM` (for alignments; with the corresponding binary/compressed versions ​\n",
    "`BAM`,​ and, more recently, \n",
    "​`CRAM​`), ​`BED​` (generic tabular format for representing genomic ranges), \n",
    "are the main file types that\n",
    "are used in the analysis of RNA-Seq data. Relevant tools in the field will\n",
    "nowadays almost always require input files and report their own outputs in any\n",
    "of these formats. However, not every tool accepting a `FASTA`​ file as input\n",
    "will also accept a ​`FASTQ`​ file, although it is trivial to convert ​`FASTQ​` to\n",
    "`FASTA` in a non-lossy way. In addition, both for legacy and new tools, custom\n",
    "formats are still being used, occasionally, to represent specialized\n",
    "information. Therefore, writing and applying parsers and converters to convert\n",
    "outputs of one tool such that they can be used as inputs to another is a\n",
    "somewhat menial, but common task that bioinformaticians are often faced with.\n",
    "\n",
    "To practice this and connect to the work you have done in the previous exercise:\n",
    "\n",
    "* Write code that converts a ​`SAM​` file to a ​`FASTA`​ file and apply it on the\n",
    "  output of exercise 2.2 (align reads). If you didn’t manage to solve exercise 2.2, write\n",
    "  code that converts ​`FASTQ`​ to ​`FASTA` instead.\n",
    "* Convert your files to ​`FASTA`​ and then apply your functions (`parse_fasta()`, `discard_ambiguous_seqs()` and `map_reads()`) from the previous session to the output (Exercise_1).\n",
    "  * Note: `map_reads()` will likely not finish in reasonable time.\n",
    "    Thus, it is fine to stop it. But report and reason about why this could be the case. What makes the difference?"
   ]
  },
  {
   "cell_type": "code",
   "execution_count": null,
   "metadata": {},
   "outputs": [],
   "source": [
    "# Function to convert SAM to FASTA\n",
    "\n",
    "\n",
    "docker run --rm -v \"C:\\Users\\lucas\\Desktop\\School\\Universität Basel\\3. Semester - HS 2025\\Programming in Bioinformatics 2025\\Exercise 2\\output:/data\" biocontainers/samtools:v1.9-4-deb_cv1 samtools fasta \"/data/BAM/Aligned.out.bam\" -o \"/data/Aligned.out.fa\"\n",
    "\n",
    ">The system cannot find the path specified.\n",
    "\n",
    "Dont know what to do I've been working on this for quite a while. \n"
   ]
  },
  {
   "cell_type": "code",
   "execution_count": null,
   "metadata": {},
   "outputs": [],
   "source": []
  },
  {
   "cell_type": "markdown",
   "metadata": {},
   "source": [
    "> **Note:** As an alternative to alignment- and count-based approaches to a\n",
    "> differential gene expression, nowadays probabilistic methods are increasingly\n",
    "> being used for similar purposes.  These have several advantages, such as\n",
    "> (typically) requiring fewer steps and less compute resources. Importantly,\n",
    "> they provide abundances for individual transcripts and thus enable analyses,\n",
    "> such as differential transcript expression and isoform usage analysis, which\n",
    "> the count-based methods do not readily allow. A downside for these methods is\n",
    "> that they are not easy to understand in detail, making results harder to\n",
    "> interpret and potentially more sensitive to biases. The two main tools for\n",
    "> alignment-free estimation of transcript abundances are\n",
    "> [Salmon](​https://github.com/COMBINE-lab/salmon) and\n",
    "> [kallisto](https://github.com/pachterlab/kallisto​)."
   ]
  }
 ],
 "metadata": {
  "language_info": {
   "name": "python"
  }
 },
 "nbformat": 4,
 "nbformat_minor": 2
}
